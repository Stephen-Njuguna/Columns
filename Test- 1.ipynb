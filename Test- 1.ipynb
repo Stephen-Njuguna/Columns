{
 "cells": [
  {
   "cell_type": "code",
   "execution_count": 36,
   "id": "94b37f1e",
   "metadata": {},
   "outputs": [],
   "source": [
    "#Libraries \n",
    "import pandas as pd \n",
    "import numpy as np\n",
    "import warnings\n",
    "warnings.filterwarnings(\"ignore\")"
   ]
  },
  {
   "cell_type": "code",
   "execution_count": 15,
   "id": "cc2f72ad",
   "metadata": {},
   "outputs": [],
   "source": [
    "#Loading Dataset \n",
    "data = pd.read_csv(r\"C:\\Users\\Njuguna\\Desktop\\Moringa School (DB)\\Core DB\\Module 2 DB\\Wk 2\\house.csv\")"
   ]
  },
  {
   "cell_type": "code",
   "execution_count": 17,
   "id": "469831d5",
   "metadata": {},
   "outputs": [],
   "source": [
    "#Creating a new dataset from the main dataset\n",
    "df = data[['MSZoning','Neighborhood']]"
   ]
  },
  {
   "cell_type": "code",
   "execution_count": 18,
   "id": "7cf8a557",
   "metadata": {},
   "outputs": [],
   "source": [
    "#Slicing the number of row\n",
    "df1 = df.loc[0:100]"
   ]
  },
  {
   "cell_type": "code",
   "execution_count": 19,
   "id": "2aef13fb",
   "metadata": {},
   "outputs": [
    {
     "data": {
      "text/plain": [
       "(101, 2)"
      ]
     },
     "execution_count": 19,
     "metadata": {},
     "output_type": "execute_result"
    }
   ],
   "source": [
    "#Shape of the new dataset\n",
    "df1.shape"
   ]
  },
  {
   "cell_type": "code",
   "execution_count": 14,
   "id": "2df5ef60",
   "metadata": {},
   "outputs": [
    {
     "data": {
      "text/plain": [
       "array(['CollgCr', 'Veenker', 'Crawfor', 'NoRidge', 'Mitchel', 'Somerst',\n",
       "       'NWAmes', 'OldTown', 'BrkSide', 'Sawyer', 'NridgHt', 'NAmes',\n",
       "       'SawyerW', 'IDOTRR', 'MeadowV', 'Edwards', 'Timber', 'Gilbert',\n",
       "       'StoneBr', 'ClearCr'], dtype=object)"
      ]
     },
     "execution_count": 14,
     "metadata": {},
     "output_type": "execute_result"
    }
   ],
   "source": [
    "df1['Neighborhood'].unique()"
   ]
  },
  {
   "cell_type": "code",
   "execution_count": 41,
   "id": "5d877ced",
   "metadata": {},
   "outputs": [],
   "source": [
    "#Creating a new column called region \n",
    "Region = []\n",
    "\n",
    "for i in df1['Neighborhood']:\n",
    "    \n",
    "    if i == ('CollgCr'or 'Veenker'or 'Crawfor'or 'NoRidge'):\n",
    "        Region.append(\"North\")\n",
    "        \n",
    "    elif i == ('Mitchel'or 'Somerst'or 'NWAmes'or 'OldTown'or 'BrkSide'or 'Sawyer'):\n",
    "        Region.append(\"South\")\n",
    "        \n",
    "    elif i == ('NridgHt'or 'NAmes'or'SawyerW'or 'IDOTRR'or 'MeadowV'):\n",
    "        Region.append(\"West\")\n",
    "        \n",
    "    else :\n",
    "        Region.append(\"East\")\n",
    "        \n",
    "df1['Region'] = Region"
   ]
  },
  {
   "cell_type": "code",
   "execution_count": 42,
   "id": "a7d537a9",
   "metadata": {},
   "outputs": [
    {
     "data": {
      "text/plain": [
       "array(['North', 'East', 'South', 'West'], dtype=object)"
      ]
     },
     "execution_count": 42,
     "metadata": {},
     "output_type": "execute_result"
    }
   ],
   "source": [
    "df1['Region'].unique()"
   ]
  },
  {
   "cell_type": "code",
   "execution_count": 44,
   "id": "11b90835",
   "metadata": {},
   "outputs": [
    {
     "data": {
      "text/html": [
       "<div>\n",
       "<style scoped>\n",
       "    .dataframe tbody tr th:only-of-type {\n",
       "        vertical-align: middle;\n",
       "    }\n",
       "\n",
       "    .dataframe tbody tr th {\n",
       "        vertical-align: top;\n",
       "    }\n",
       "\n",
       "    .dataframe thead th {\n",
       "        text-align: right;\n",
       "    }\n",
       "</style>\n",
       "<table border=\"1\" class=\"dataframe\">\n",
       "  <thead>\n",
       "    <tr style=\"text-align: right;\">\n",
       "      <th></th>\n",
       "      <th>MSZoning</th>\n",
       "      <th>Neighborhood</th>\n",
       "      <th>Region</th>\n",
       "    </tr>\n",
       "  </thead>\n",
       "  <tbody>\n",
       "    <tr>\n",
       "      <th>0</th>\n",
       "      <td>RL</td>\n",
       "      <td>CollgCr</td>\n",
       "      <td>North</td>\n",
       "    </tr>\n",
       "    <tr>\n",
       "      <th>1</th>\n",
       "      <td>RL</td>\n",
       "      <td>Veenker</td>\n",
       "      <td>East</td>\n",
       "    </tr>\n",
       "    <tr>\n",
       "      <th>2</th>\n",
       "      <td>RL</td>\n",
       "      <td>CollgCr</td>\n",
       "      <td>North</td>\n",
       "    </tr>\n",
       "    <tr>\n",
       "      <th>3</th>\n",
       "      <td>RL</td>\n",
       "      <td>Crawfor</td>\n",
       "      <td>East</td>\n",
       "    </tr>\n",
       "    <tr>\n",
       "      <th>4</th>\n",
       "      <td>RL</td>\n",
       "      <td>NoRidge</td>\n",
       "      <td>East</td>\n",
       "    </tr>\n",
       "  </tbody>\n",
       "</table>\n",
       "</div>"
      ],
      "text/plain": [
       "  MSZoning Neighborhood Region\n",
       "0       RL      CollgCr  North\n",
       "1       RL      Veenker   East\n",
       "2       RL      CollgCr  North\n",
       "3       RL      Crawfor   East\n",
       "4       RL      NoRidge   East"
      ]
     },
     "execution_count": 44,
     "metadata": {},
     "output_type": "execute_result"
    }
   ],
   "source": [
    "#New column created and the Regions assigned correctly\n",
    "df1.head()"
   ]
  },
  {
   "cell_type": "code",
   "execution_count": null,
   "id": "75d1be69",
   "metadata": {},
   "outputs": [],
   "source": []
  }
 ],
 "metadata": {
  "kernelspec": {
   "display_name": "Python 3",
   "language": "python",
   "name": "python3"
  },
  "language_info": {
   "codemirror_mode": {
    "name": "ipython",
    "version": 3
   },
   "file_extension": ".py",
   "mimetype": "text/x-python",
   "name": "python",
   "nbconvert_exporter": "python",
   "pygments_lexer": "ipython3",
   "version": "3.8.8"
  }
 },
 "nbformat": 4,
 "nbformat_minor": 5
}
